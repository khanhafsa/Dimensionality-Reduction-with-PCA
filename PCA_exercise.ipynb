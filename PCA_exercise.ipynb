{
 "cells": [
  {
   "cell_type": "markdown",
   "metadata": {},
   "source": [
    "## Dimensionality reduction\n",
    "\n",
    "We will test some of the dimensionality reduction techniques on the [UFO dataset](https://drive.google.com/file/d/0B2gZvn36c5CmRTJpS3pkUllmX1U/view?usp=sharing) from the last week."
   ]
  },
  {
   "cell_type": "markdown",
   "metadata": {},
   "source": [
    "\n",
    "\n",
    "\n",
    "### PCA\n",
    "\n",
    "Subset all **weather related** features from the data and run PCA over it. \n",
    "\n",
    "\n",
    "1. Extract the 2 best principal components (k=2). \n",
    "1. Plot the **feature** space into the new space. \n",
    "    - We should create a scatter plot with 1st component on the axis x and second component on y. \n",
    "    - The length of each component is equal to number of columns (features) we have in our data before PCA.\n",
    "    - Points in the graph that are close to each other are similar features. We need to anotate the points with feature names.\n",
    "1. Observe which features have similar meaning and which have opposite.\n",
    "    - Features close to each other have similar meaning.\n",
    "1. Select the optimal number of dimensions to keep - *k* (find the explained variance of each component and use the elbow rule)\n",
    "1. Create a projection of your data into the *k* axes of the trained PCA\n",
    "1. Export the data with the new features. Number of rows should be the same as in the original dataset."
   ]
  },
  {
   "cell_type": "code",
   "execution_count": 91,
   "metadata": {},
   "outputs": [],
   "source": [
    "import pandas as pd\n",
    "import numpy as np"
   ]
  },
  {
   "cell_type": "code",
   "execution_count": 125,
   "metadata": {},
   "outputs": [
    {
     "name": "stderr",
     "output_type": "stream",
     "text": [
      "/home/hafsa/anaconda3/lib/python3.8/site-packages/IPython/core/interactiveshell.py:3146: DtypeWarning: Columns (20,23,26,38) have mixed types.Specify dtype option on import or set low_memory=False.\n",
      "  has_raised = await self.run_ast_nodes(code_ast.body, cell_name,\n"
     ]
    }
   ],
   "source": [
    "df = pd.read_csv('UFO_data.csv', sep=';')"
   ]
  },
  {
   "cell_type": "code",
   "execution_count": 126,
   "metadata": {},
   "outputs": [],
   "source": [
    "new_df = df[[\n",
    "    'cloudCover', 'dewPoint', 'humidity',\n",
    "    'precipIntensity', 'precipProbability', 'precipType', 'pressure', 'temperature',\n",
    "    'windSpeed'\n",
    "]]"
   ]
  },
  {
   "cell_type": "code",
   "execution_count": null,
   "metadata": {},
   "outputs": [],
   "source": [
    "apparentTemperature = median\n",
    "cloudCover = median\n",
    "dewPoint = median\n",
    "humidity = median\n",
    "percipType = empty\n",
    "pressure = median\n",
    "summary = empty\n",
    "temperature = median\n",
    "windBearing = median\n",
    "windSpeed = median"
   ]
  },
  {
   "cell_type": "code",
   "execution_count": 127,
   "metadata": {},
   "outputs": [
    {
     "data": {
      "text/html": [
       "<div>\n",
       "<style scoped>\n",
       "    .dataframe tbody tr th:only-of-type {\n",
       "        vertical-align: middle;\n",
       "    }\n",
       "\n",
       "    .dataframe tbody tr th {\n",
       "        vertical-align: top;\n",
       "    }\n",
       "\n",
       "    .dataframe thead th {\n",
       "        text-align: right;\n",
       "    }\n",
       "</style>\n",
       "<table border=\"1\" class=\"dataframe\">\n",
       "  <thead>\n",
       "    <tr style=\"text-align: right;\">\n",
       "      <th></th>\n",
       "      <th>cloudCover</th>\n",
       "      <th>dewPoint</th>\n",
       "      <th>humidity</th>\n",
       "      <th>precipIntensity</th>\n",
       "      <th>precipProbability</th>\n",
       "      <th>precipType</th>\n",
       "      <th>pressure</th>\n",
       "      <th>temperature</th>\n",
       "      <th>windSpeed</th>\n",
       "    </tr>\n",
       "  </thead>\n",
       "  <tbody>\n",
       "    <tr>\n",
       "      <th>0</th>\n",
       "      <td>0.00</td>\n",
       "      <td>20.56</td>\n",
       "      <td>0.73</td>\n",
       "      <td>0.0</td>\n",
       "      <td>0.0</td>\n",
       "      <td>NaN</td>\n",
       "      <td>1009.05</td>\n",
       "      <td>25.86</td>\n",
       "      <td>4.89</td>\n",
       "    </tr>\n",
       "    <tr>\n",
       "      <th>1</th>\n",
       "      <td>0.00</td>\n",
       "      <td>21.72</td>\n",
       "      <td>0.77</td>\n",
       "      <td>0.0</td>\n",
       "      <td>0.0</td>\n",
       "      <td>NaN</td>\n",
       "      <td>1008.81</td>\n",
       "      <td>26.12</td>\n",
       "      <td>6.60</td>\n",
       "    </tr>\n",
       "    <tr>\n",
       "      <th>2</th>\n",
       "      <td>0.75</td>\n",
       "      <td>12.86</td>\n",
       "      <td>0.84</td>\n",
       "      <td>NaN</td>\n",
       "      <td>NaN</td>\n",
       "      <td>rain</td>\n",
       "      <td>1019.00</td>\n",
       "      <td>15.56</td>\n",
       "      <td>NaN</td>\n",
       "    </tr>\n",
       "    <tr>\n",
       "      <th>3</th>\n",
       "      <td>0.12</td>\n",
       "      <td>17.04</td>\n",
       "      <td>0.71</td>\n",
       "      <td>NaN</td>\n",
       "      <td>NaN</td>\n",
       "      <td>rain</td>\n",
       "      <td>1020.64</td>\n",
       "      <td>22.68</td>\n",
       "      <td>2.75</td>\n",
       "    </tr>\n",
       "    <tr>\n",
       "      <th>4</th>\n",
       "      <td>0.63</td>\n",
       "      <td>21.47</td>\n",
       "      <td>0.77</td>\n",
       "      <td>NaN</td>\n",
       "      <td>NaN</td>\n",
       "      <td>rain</td>\n",
       "      <td>1015.33</td>\n",
       "      <td>25.74</td>\n",
       "      <td>3.60</td>\n",
       "    </tr>\n",
       "  </tbody>\n",
       "</table>\n",
       "</div>"
      ],
      "text/plain": [
       "   cloudCover  dewPoint  humidity  precipIntensity  precipProbability  \\\n",
       "0        0.00     20.56      0.73              0.0                0.0   \n",
       "1        0.00     21.72      0.77              0.0                0.0   \n",
       "2        0.75     12.86      0.84              NaN                NaN   \n",
       "3        0.12     17.04      0.71              NaN                NaN   \n",
       "4        0.63     21.47      0.77              NaN                NaN   \n",
       "\n",
       "  precipType  pressure  temperature  windSpeed  \n",
       "0        NaN   1009.05        25.86       4.89  \n",
       "1        NaN   1008.81        26.12       6.60  \n",
       "2       rain   1019.00        15.56        NaN  \n",
       "3       rain   1020.64        22.68       2.75  \n",
       "4       rain   1015.33        25.74       3.60  "
      ]
     },
     "execution_count": 127,
     "metadata": {},
     "output_type": "execute_result"
    }
   ],
   "source": [
    "new_df.head()"
   ]
  },
  {
   "cell_type": "code",
   "execution_count": 129,
   "metadata": {},
   "outputs": [
    {
     "data": {
      "text/plain": [
       "cloudCover           float64\n",
       "dewPoint             float64\n",
       "humidity             float64\n",
       "precipIntensity      float64\n",
       "precipProbability    float64\n",
       "precipType            object\n",
       "pressure             float64\n",
       "temperature          float64\n",
       "windSpeed            float64\n",
       "dtype: object"
      ]
     },
     "execution_count": 129,
     "metadata": {},
     "output_type": "execute_result"
    }
   ],
   "source": [
    "new_df.dtypes"
   ]
  },
  {
   "cell_type": "code",
   "execution_count": 130,
   "metadata": {},
   "outputs": [
    {
     "name": "stderr",
     "output_type": "stream",
     "text": [
      "/home/hafsa/anaconda3/lib/python3.8/site-packages/pandas/core/indexing.py:965: SettingWithCopyWarning: \n",
      "A value is trying to be set on a copy of a slice from a DataFrame.\n",
      "Try using .loc[row_indexer,col_indexer] = value instead\n",
      "\n",
      "See the caveats in the documentation: https://pandas.pydata.org/pandas-docs/stable/user_guide/indexing.html#returning-a-view-versus-a-copy\n",
      "  self.obj[item] = s\n",
      "/home/hafsa/anaconda3/lib/python3.8/site-packages/pandas/core/generic.py:6746: SettingWithCopyWarning: \n",
      "A value is trying to be set on a copy of a slice from a DataFrame\n",
      "\n",
      "See the caveats in the documentation: https://pandas.pydata.org/pandas-docs/stable/user_guide/indexing.html#returning-a-view-versus-a-copy\n",
      "  self._update_inplace(new_data)\n"
     ]
    }
   ],
   "source": [
    "#data cleanup\n",
    "\n",
    "#cloud cover\n",
    "new_df.loc[\n",
    "        new_df[\n",
    "            new_df['cloudCover'].isnull()\n",
    "        ].index,\n",
    "        'cloudCover'\n",
    "] = 0.0\n",
    "\n",
    "#dew Point\n",
    "new_df.loc[\n",
    "        new_df[\n",
    "            new_df['dewPoint'].isnull()\n",
    "        ].index,\n",
    "        'dewPoint'\n",
    "] = new_df['dewPoint'].mean()\n",
    "\n",
    "#humidity\n",
    "new_df.loc[\n",
    "        new_df[\n",
    "            new_df['humidity'].isnull()\n",
    "        ].index,\n",
    "        'humidity'\n",
    "] = new_df['humidity'].mean()\n",
    "\n",
    "#precipIntensity\n",
    "new_df.loc[\n",
    "        new_df[\n",
    "            new_df['precipIntensity'].isnull()\n",
    "        ].index,\n",
    "        'precipIntensity'\n",
    "] = new_df['precipIntensity'].median()\n",
    "\n",
    "#precipProbability\n",
    "new_df.loc[\n",
    "        new_df[\n",
    "            new_df['precipProbability'].isnull()\n",
    "        ].index,\n",
    "        'precipProbability'\n",
    "] = new_df['precipProbability'].median()\n",
    "\n",
    "#precipType\n",
    "new_df['precipType'].replace({\n",
    "    np.nan: 0,\n",
    "    'rain': 1,\n",
    "    'snow': 2\n",
    "}, inplace=True)\n",
    "\n",
    "#pressure\n",
    "new_df.loc[\n",
    "        new_df[\n",
    "            new_df['pressure'].isnull()\n",
    "        ].index,\n",
    "        'pressure'\n",
    "] = new_df['pressure'].median()\n",
    "\n",
    "#temperature\n",
    "new_df.loc[\n",
    "        new_df[\n",
    "            new_df['temperature'].isnull()\n",
    "        ].index,\n",
    "        'temperature'\n",
    "] = new_df['temperature'].median()\n",
    "\n",
    "#windSpeed\n",
    "new_df.loc[\n",
    "        new_df[\n",
    "            new_df['windSpeed'].isnull()\n",
    "        ].index,\n",
    "        'windSpeed'\n",
    "] = new_df['windSpeed'].median()"
   ]
  },
  {
   "cell_type": "code",
   "execution_count": 132,
   "metadata": {},
   "outputs": [
    {
     "data": {
      "text/plain": [
       "cloudCover           0\n",
       "dewPoint             0\n",
       "humidity             0\n",
       "precipIntensity      0\n",
       "precipProbability    0\n",
       "precipType           0\n",
       "pressure             0\n",
       "temperature          0\n",
       "windSpeed            0\n",
       "dtype: int64"
      ]
     },
     "execution_count": 132,
     "metadata": {},
     "output_type": "execute_result"
    }
   ],
   "source": [
    "new_df.isnull().sum()"
   ]
  },
  {
   "cell_type": "code",
   "execution_count": 133,
   "metadata": {},
   "outputs": [],
   "source": [
    "from sklearn.preprocessing import StandardScaler"
   ]
  },
  {
   "cell_type": "code",
   "execution_count": 134,
   "metadata": {},
   "outputs": [],
   "source": [
    "scaler = StandardScaler()\n",
    "scaler.fit(new_df)\n",
    "scaled_df = scaler.transform(new_df)"
   ]
  },
  {
   "cell_type": "code",
   "execution_count": 138,
   "metadata": {},
   "outputs": [],
   "source": [
    "scaled_df_pd = pd.DataFrame(scaled_df)"
   ]
  },
  {
   "cell_type": "code",
   "execution_count": 136,
   "metadata": {},
   "outputs": [],
   "source": [
    "from sklearn.decomposition import PCA"
   ]
  },
  {
   "cell_type": "code",
   "execution_count": 139,
   "metadata": {},
   "outputs": [],
   "source": [
    "pca = PCA(n_components=2)\n",
    "pca.fit(scaled_df_pd)\n",
    "pca_df = pca.transform(scaled_df_pd)"
   ]
  },
  {
   "cell_type": "code",
   "execution_count": 141,
   "metadata": {},
   "outputs": [],
   "source": [
    "import matplotlib.pyplot as plt\n",
    "import seaborn as sns; sns.set()"
   ]
  },
  {
   "cell_type": "code",
   "execution_count": 142,
   "metadata": {},
   "outputs": [
    {
     "data": {
      "text/plain": [
       "Text(0, 0.5, '% Cumulative explained variance')"
      ]
     },
     "execution_count": 142,
     "metadata": {},
     "output_type": "execute_result"
    },
    {
     "data": {
      "image/png": "[encoded data removed]",
      "text/plain": [
       "<Figure size 432x288 with 1 Axes>"
      ]
     },
     "metadata": {},
     "output_type": "display_data"
    }
   ],
   "source": [
    "# See how well PCs explain variance in the dataset\n",
    "cum_explained_variance = np.cumsum(pca.explained_variance_ratio_)\n",
    "plt.plot(cum_explained_variance)\n",
    "plt.xlabel('PC number')\n",
    "plt.ylabel('% Cumulative explained variance')"
   ]
  },
  {
   "cell_type": "code",
   "execution_count": null,
   "metadata": {},
   "outputs": [],
   "source": []
  }
 ],
 "metadata": {
  "kernelspec": {
   "display_name": "Python 3",
   "language": "python",
   "name": "python3"
  },
  "language_info": {
   "codemirror_mode": {
    "name": "ipython",
    "version": 3
   },
   "file_extension": ".py",
   "mimetype": "text/x-python",
   "name": "python",
   "nbconvert_exporter": "python",
   "pygments_lexer": "ipython3",
   "version": "3.8.5"
  }
 },
 "nbformat": 4,
 "nbformat_minor": 4
}
